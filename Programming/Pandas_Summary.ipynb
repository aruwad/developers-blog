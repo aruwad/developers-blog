{
 "cells": [
  {
   "cell_type": "code",
   "execution_count": 2,
   "id": "3a827b29",
   "metadata": {},
   "outputs": [],
   "source": [
    "import pandas as pd"
   ]
  },
  {
   "cell_type": "code",
   "execution_count": 2,
   "id": "d31254d2",
   "metadata": {
    "collapsed": true
   },
   "outputs": [
    {
     "name": "stdout",
     "output_type": "stream",
     "text": [
      "0    peach\n",
      "1    lilly\n",
      "2     dazy\n",
      "dtype: object\n"
     ]
    }
   ],
   "source": [
    "#Series.\n",
    "s = pd.Series([\"peach\", \"lilly\", \"dazy\"])\n",
    "print(s)"
   ]
  },
  {
   "cell_type": "code",
   "execution_count": 5,
   "id": "9b222010",
   "metadata": {},
   "outputs": [
    {
     "data": {
      "text/html": [
       "<div>\n",
       "<style scoped>\n",
       "    .dataframe tbody tr th:only-of-type {\n",
       "        vertical-align: middle;\n",
       "    }\n",
       "\n",
       "    .dataframe tbody tr th {\n",
       "        vertical-align: top;\n",
       "    }\n",
       "\n",
       "    .dataframe thead th {\n",
       "        text-align: right;\n",
       "    }\n",
       "</style>\n",
       "<table border=\"1\" class=\"dataframe\">\n",
       "  <thead>\n",
       "    <tr style=\"text-align: right;\">\n",
       "      <th></th>\n",
       "      <th>Name</th>\n",
       "      <th>Height</th>\n",
       "      <th>Weight</th>\n",
       "    </tr>\n",
       "  </thead>\n",
       "  <tbody>\n",
       "    <tr>\n",
       "      <th>2</th>\n",
       "      <td>lilly</td>\n",
       "      <td>145</td>\n",
       "      <td>64</td>\n",
       "    </tr>\n",
       "  </tbody>\n",
       "</table>\n",
       "</div>"
      ],
      "text/plain": [
       "    Name  Height  Weight\n",
       "2  lilly     145      64"
      ]
     },
     "execution_count": 5,
     "metadata": {},
     "output_type": "execute_result"
    }
   ],
   "source": [
    "#DataFrame, basics.\n",
    "#1. Init.\n",
    "idx = pd.RangeIndex(start=1, stop=4, step=1)   #Init idx. (stop = n -> idx = [start, n-1])\n",
    "df = pd.DataFrame(\n",
    "    data = [\n",
    "        ['peach', 182, 65],\n",
    "        ['lilly', 145, 64],\n",
    "        ['dazy', 165, 53]\n",
    "    ],\n",
    "    columns = ['Name', 'Height', 'Weight'],\n",
    "    index = idx\n",
    ")\n",
    "\n",
    "#2. Indexing.\n",
    "df[['Name', 'Height']]        #indexing cols.\n",
    "df.loc[[1,3]]                 #indexing rows.\n",
    "df.loc[                       #indexing rows & cols.\n",
    "    [1,3],     #rows.\n",
    "    ['Name']   #cols.\n",
    "]\n",
    "df.iloc[                      #indexing by position.\n",
    "    [1],\n",
    "    [1]\n",
    "]\n",
    "df.loc[                       #indexing by cond.\n",
    "    (df['Height'] < 180) &\n",
    "    (df['Name'] == 'dazy')\n",
    "]\n",
    "\n",
    "#3. Modify & Delete.\n",
    "df2 = df.copy()               #should copy first!\n",
    "df2.loc[                      #just indexing + allocate.\n",
    "    [1],\n",
    "    ['Height']\n",
    "] = 175\n",
    "\n",
    "df2.drop(index=[1,3], columns=['Height'])  #drop. Note that df2 does not change!\n",
    "df2.drop(df[df.Height < 170].index)        #drop by cond."
   ]
  },
  {
   "cell_type": "code",
   "execution_count": null,
   "id": "d6b6d274",
   "metadata": {},
   "outputs": [],
   "source": [
    "#DataFrame, ftns summary.\n",
    "\n",
    "#Print.\n",
    "df.head(2)\n",
    "df.tail(2)\n",
    "\n",
    "#Sort.\n",
    "df.sort_index(ascending=False)\n",
    "df.sort_values(by=['Height', 'Weight'], ascending=True)\n"
   ]
  }
 ],
 "metadata": {
  "kernelspec": {
   "display_name": "Python 3",
   "language": "python",
   "name": "python3"
  },
  "language_info": {
   "codemirror_mode": {
    "name": "ipython",
    "version": 3
   },
   "file_extension": ".py",
   "mimetype": "text/x-python",
   "name": "python",
   "nbconvert_exporter": "python",
   "pygments_lexer": "ipython3",
   "version": "3.8.8"
  }
 },
 "nbformat": 4,
 "nbformat_minor": 5
}
