{
 "cells": [
  {
   "cell_type": "code",
   "execution_count": 2,
   "id": "3a827b29",
   "metadata": {},
   "outputs": [],
   "source": [
    "import pandas as pd"
   ]
  },
  {
   "cell_type": "code",
   "execution_count": 3,
   "id": "d31254d2",
   "metadata": {},
   "outputs": [
    {
     "name": "stdout",
     "output_type": "stream",
     "text": [
      "0    peach\n",
      "1    lilly\n",
      "2     dazy\n",
      "dtype: object\n"
     ]
    }
   ],
   "source": [
    "#Series.\n",
    "s = pd.Series([\"peach\", \"lilly\", \"dazy\"])\n",
    "print(s)"
   ]
  },
  {
   "cell_type": "code",
   "execution_count": 4,
   "id": "9b222010",
   "metadata": {},
   "outputs": [
    {
     "data": {
      "text/html": [
       "<div>\n",
       "<style scoped>\n",
       "    .dataframe tbody tr th:only-of-type {\n",
       "        vertical-align: middle;\n",
       "    }\n",
       "\n",
       "    .dataframe tbody tr th {\n",
       "        vertical-align: top;\n",
       "    }\n",
       "\n",
       "    .dataframe thead th {\n",
       "        text-align: right;\n",
       "    }\n",
       "</style>\n",
       "<table border=\"1\" class=\"dataframe\">\n",
       "  <thead>\n",
       "    <tr style=\"text-align: right;\">\n",
       "      <th></th>\n",
       "      <th>Name</th>\n",
       "      <th>Height</th>\n",
       "      <th>Weight</th>\n",
       "    </tr>\n",
       "  </thead>\n",
       "  <tbody>\n",
       "    <tr>\n",
       "      <th>1</th>\n",
       "      <td>peach</td>\n",
       "      <td>175</td>\n",
       "      <td>65</td>\n",
       "    </tr>\n",
       "  </tbody>\n",
       "</table>\n",
       "</div>"
      ],
      "text/plain": [
       "    Name  Height  Weight\n",
       "1  peach     175      65"
      ]
     },
     "execution_count": 4,
     "metadata": {},
     "output_type": "execute_result"
    }
   ],
   "source": [
    "#DataFrame, basics.\n",
    "#1. Init.\n",
    "idx = pd.RangeIndex(start=1, stop=4, step=1)   #Init idx. (stop = n -> idx = [start, n-1])\n",
    "df = pd.DataFrame(\n",
    "    data = [\n",
    "        ['peach', 182, 65],\n",
    "        ['lilly', 145, 64],\n",
    "        ['dazy', 165, 53]\n",
    "    ],\n",
    "    columns = ['Name', 'Height', 'Weight'],\n",
    "    index = idx\n",
    ")\n",
    "\n",
    "#2. Indexing.\n",
    "df[['Name', 'Height']]        #indexing cols.\n",
    "df.loc[[1,3]]                 #indexing rows.\n",
    "df.loc[                       #indexing rows & cols.\n",
    "    [1,3],     #rows.\n",
    "    ['Name']   #cols.\n",
    "]\n",
    "df.iloc[                      #indexing by position.\n",
    "    [1],\n",
    "    [1]\n",
    "]\n",
    "df.loc[                       #indexing by cond.\n",
    "    (df['Height'] < 180) &\n",
    "    (df['Name'] == 'dazy')\n",
    "]\n",
    "\n",
    "#3. Modify & Delete.\n",
    "df2 = df.copy()               #should copy first!\n",
    "df2.loc[                      #just indexing + allocate.\n",
    "    [1],\n",
    "    ['Height']\n",
    "] = 175\n",
    "\n",
    "df2.drop(index=[1,3], columns=['Height'])  #drop. Note that df2 does not change!\n",
    "df2.drop(df[df.Height < 170].index)        #drop by cond."
   ]
  },
  {
   "cell_type": "code",
   "execution_count": 11,
   "id": "d6b6d274",
   "metadata": {},
   "outputs": [
    {
     "name": "stdout",
     "output_type": "stream",
     "text": [
      "<class 'pandas.core.frame.DataFrame'>\n",
      "RangeIndex: 3 entries, 1 to 3\n",
      "Data columns (total 3 columns):\n",
      " #   Column  Non-Null Count  Dtype \n",
      "---  ------  --------------  ----- \n",
      " 0   Name    3 non-null      object\n",
      " 1   Height  3 non-null      int64 \n",
      " 2   Weight  3 non-null      int64 \n",
      "dtypes: int64(2), object(1)\n",
      "memory usage: 204.0+ bytes\n"
     ]
    },
    {
     "data": {
      "text/plain": [
       "array([[<AxesSubplot:title={'center':'Height'}>,\n",
       "        <AxesSubplot:title={'center':'Weight'}>]], dtype=object)"
      ]
     },
     "execution_count": 11,
     "metadata": {},
     "output_type": "execute_result"
    },
    {
     "data": {
      "image/png": "[encoded data removed]",
      "text/plain": [
       "<Figure size 640x480 with 2 Axes>"
      ]
     },
     "metadata": {},
     "output_type": "display_data"
    }
   ],
   "source": [
    "#DataFrame, ftns summary.\n",
    "\n",
    "#Print.\n",
    "df.head(2)\n",
    "df.tail(2)\n",
    "\n",
    "#Sort.\n",
    "df.sort_index(ascending=False)\n",
    "df.sort_values(by=['Height', 'Weight'], ascending=True)\n",
    "\n",
    "#Analysis.\n",
    "df.info()\n",
    "df['Height'].value_counts()    #df['col_name'].value_counts()\n",
    "df.describe()                  #count, mean, std, min, max, etc. by cols.\n",
    "df.hist()                      #histogram by cols."
   ]
  }
 ],
 "metadata": {
  "kernelspec": {
   "display_name": "Python 3 (ipykernel)",
   "language": "python",
   "name": "python3"
  },
  "language_info": {
   "codemirror_mode": {
    "name": "ipython",
    "version": 3
   },
   "file_extension": ".py",
   "mimetype": "text/x-python",
   "name": "python",
   "nbconvert_exporter": "python",
   "pygments_lexer": "ipython3",
   "version": "3.9.13"
  }
 },
 "nbformat": 4,
 "nbformat_minor": 5
}
