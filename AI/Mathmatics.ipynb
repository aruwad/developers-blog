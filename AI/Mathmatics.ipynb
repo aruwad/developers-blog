{
 "cells": [
  {
   "cell_type": "markdown",
   "id": "3b4e9d10",
   "metadata": {},
   "source": [
    "### Norm.\n",
    "$l_k \, norm = \\lVert v_k \\rVert=\\left(\\lvert v_0 \\rvert^k+\\lvert v_1 \\rvert^k+\\dots +\\lvert v_n \\rvert^k\\right)^\\frac{1}{k}$"
   ]
  },
  {
   "cell_type": "markdown",
   "id": "8779c5b0",
   "metadata": {},
   "source": [
    "### Data Type.\n",
    "- Categorical Data: sorted by category, not by number.\n",
    "    - Nominal Data: no ordering.\n",
    "    - Ordinal Data: have odering.\n",
    "- Numerical Data: number data.\n",
    "    - Discrete Data: no value between two numbers.\n",
    "    - Continuous Data: any values between two numbers."
   ]
  },
  {
   "cell_type": "markdown",
   "id": "8a7c9782",
   "metadata": {},
   "source": [
    "### Correlation Analysis."
   ]
  },
  {
   "cell_type": "markdown",
   "id": "a1ce3128",
   "metadata": {},
   "source": [
    "### T-test.\n",
    "- Definition.\n",
    "    - Testing if there is a significant difference between population based on sample.\n",
    "- Assumptions.\n",
    "    - Independent Sampling.\n",
    "    - Normal distribution.\n",
    "- Classification.\n",
    "    - One-sample T-test: whether or not the mean of a population is equal to some value.\n",
    "    - Two-sample T-test: whether or not two population means are equal.\n",
    "        - Student's T-test: two sample have equal variances.\n",
    "        - Welch's T-test: two sample have unequal variances.\n",
    "- Formula.\n",
    "    - One-sample T-test.\n",
    "         - $t=\\frac{\\bar x-\\mu_0}{s/\\sqrt n}$\n",
    "         - $df=n-1$\n",
    "    - Student's T-test.\n",
    "        - $t=\\frac{\\bar x_1 - \\bar x_2}{s_p \\sqrt{\\frac{1}{n_1}+\\frac{1}{n_2}}}\\;,\\quad\n",
    "        s_p=\\sqrt{\\frac{(n_1-1)s^2_1 + (n_2-1)s^2_2}{n_1+n_2-2}}$\n",
    "        - $df=n_1+n_2-2$\n",
    "    - Welch's T-tes.\n",
    "        - $t=\\frac{\\bar x_1 - \\bar x_2}{\\sqrt{\\frac{s^2_1}{n_1}+\\frac{s^2_2}{n_2}}}$\n",
    "        - $df=\\frac{\\left(\\frac{s^2_1}{n_1}+\\frac{s^2_2}{n_2}\\right)^2}{\\frac{1}{n_1-1}\\left(\\frac{s^2_1}{n_1}\\right)^2 + \\frac{1}{n_2-1}\\left(\\frac{s^2_2}{n_2}\\right)^2}$\n",
    "- Steps.\n",
    "    1. Build Hypotheses.\n",
    "        - $H_0$, $H_A$\n",
    "    2. Sampling.\n",
    "    3. Determine T-test Method.\n",
    "    4. Calculate T-value, Degree of Freedom, P-value.\n",
    "    5. Conclusion.\n",
    "        - P-value 0.05 < $\\to$ $H_A$.\n",
    "        - P-value 0.05 $\\geq$ $\\to$ $H_0$\n",
    "."
   ]
  }
 ],
 "metadata": {
  "kernelspec": {
   "display_name": "Python 3 (ipykernel)",
   "language": "python",
   "name": "python3"
  },
  "language_info": {
   "codemirror_mode": {
    "name": "ipython",
    "version": 3
   },
   "file_extension": ".py",
   "mimetype": "text/x-python",
   "name": "python",
   "nbconvert_exporter": "python",
   "pygments_lexer": "ipython3",
   "version": "3.9.13"
  }
 },
 "nbformat": 4,
 "nbformat_minor": 5
}
