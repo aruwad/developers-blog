{
 "cells": [
  {
   "cell_type": "code",
   "execution_count": 2,
   "id": "f39a687c",
   "metadata": {},
   "outputs": [
    {
     "ename": "SyntaxError",
     "evalue": "invalid syntax (<ipython-input-2-15c3762b3fcd>, line 7)",
     "output_type": "error",
     "traceback": [
      "\u001b[1;36m  File \u001b[1;32m\"<ipython-input-2-15c3762b3fcd>\"\u001b[1;36m, line \u001b[1;32m7\u001b[0m\n\u001b[1;33m    axes[0].imshow(~, ~)\u001b[0m\n\u001b[1;37m                    ^\u001b[0m\n\u001b[1;31mSyntaxError\u001b[0m\u001b[1;31m:\u001b[0m invalid syntax\n"
     ]
    }
   ],
   "source": [
    "#imshow.\n",
    "plt.imshow(x_sample, cmap='gray_r')    #append '_r' => reversed cmap.\n",
    "\n",
    "#print multiple imgs: plt.subplots\n",
    "fig, axes = plt.subplots(nrows, ncols, figsize = (15,15),\n",
    "                         sharex, sharey)     #False, True, 'row' or 'col'.\n",
    "axes[0].imshow(~, ~)"
   ]
  },
  {
   "cell_type": "code",
   "execution_count": null,
   "id": "3cbde407",
   "metadata": {},
   "outputs": [],
   "source": []
  }
 ],
 "metadata": {
  "kernelspec": {
   "display_name": "Python 3",
   "language": "python",
   "name": "python3"
  },
  "language_info": {
   "codemirror_mode": {
    "name": "ipython",
    "version": 3
   },
   "file_extension": ".py",
   "mimetype": "text/x-python",
   "name": "python",
   "nbconvert_exporter": "python",
   "pygments_lexer": "ipython3",
   "version": "3.8.8"
  }
 },
 "nbformat": 4,
 "nbformat_minor": 5
}
